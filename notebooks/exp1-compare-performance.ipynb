{
 "cells": [
  {
   "cell_type": "markdown",
   "metadata": {},
   "source": [
    "# Exp1 -- Compare performance of different models\n",
    "\n",
    "The models include:\n",
    "\n",
    "- Local model: Xinanjiang model and LSTM\n",
    "- Transfer learning model: TL-LSTM"
   ]
  }
 ],
 "metadata": {
  "kernelspec": {
   "display_name": "TL",
   "language": "python",
   "name": "tl"
  },
  "language_info": {
   "name": "python",
   "version": "3.10.12"
  }
 },
 "nbformat": 4,
 "nbformat_minor": 2
}
